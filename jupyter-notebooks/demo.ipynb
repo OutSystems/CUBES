{
 "cells": [
  {
   "cell_type": "code",
   "execution_count": 1,
   "metadata": {
    "deletable": false,
    "editable": false
   },
   "outputs": [],
   "source": [
    "%%capture\n",
    "import sys\n",
    "sys.path.append(\"..\")\n",
    "from squaresEnumerator import Squares\n",
    "s = Squares()\n",
    "inputs = []\n",
    "const, aggrs, attrs, loc = \"\", \"\", \"\", 0"
   ]
  },
  {
   "cell_type": "markdown",
   "metadata": {},
   "source": [
    "Inputs:"
   ]
  },
  {
   "cell_type": "markdown",
   "metadata": {},
   "source": [
    "- Parts\n",
    "\n",
    "|Id|Part Name (pname)| \n",
    "|---|---|    \n",
    "| 1 | Tire |    \n",
    "| 2 | Suspension |\n",
    "\n",
    "- Supplier \n",
    "\n",
    "|Id|Supplier Name (sname)|\n",
    "|---|---|\n",
    "|1|Michelin|"
   ]
  },
  {
   "cell_type": "code",
   "execution_count": 2,
   "metadata": {},
   "outputs": [],
   "source": [
    "input0 = \"id,pname\\n1,Tire\\n2,Suspension\"\n",
    "inputs.append(input0)\n",
    "\n",
    "input1 = \"id,sname\\n1,Michelin\"\n",
    "inputs.append(input1)\n"
   ]
  },
  {
   "cell_type": "markdown",
   "metadata": {},
   "source": [
    "Here the user specifies the output table, using a string and \"\\n\" represents the end of a line.\n",
    "E.g. "
   ]
  },
  {
   "cell_type": "markdown",
   "metadata": {},
   "source": [
    "- Output\n",
    "\n",
    "|Part Name (pname)| \n",
    "|---|    \n",
    "|Tire |    "
   ]
  },
  {
   "cell_type": "code",
   "execution_count": 3,
   "metadata": {},
   "outputs": [],
   "source": [
    "output=\"pname\\nTire\""
   ]
  },
  {
   "cell_type": "markdown",
   "metadata": {},
   "source": [
    "[Optional] Constants. Constants can either be integers or strings. \n",
    "- E.g. consts = \"Tire,1\""
   ]
  },
  {
   "cell_type": "code",
   "execution_count": 4,
   "metadata": {},
   "outputs": [],
   "source": [
    "consts=\"\""
   ]
  },
  {
   "cell_type": "markdown",
   "metadata": {},
   "source": [
    "[Optional] Aggregators. The user can specify several SQL/R aggregators that will be used by desired query.\n",
    "Aggregators available: \n",
    "\n",
    "| Choices | SQL Operator |\n",
    "|--|--|\n",
    "| max| MAX|\n",
    "| min | MIN|\n",
    "| mean | AVG|\n",
    "| sum | SUM|\n",
    "| like | LIKE|\n",
    "| concat/concat_grouped | Concat|\n",
    "| n | COUNT( ) |\n",
    "| max(n) | to filter using the maximum number calculated using COUNT( )|\n",
    "\n",
    "For example to count the number of pnames the user should provide aggrs = \"n\"."
   ]
  },
  {
   "cell_type": "code",
   "execution_count": 5,
   "metadata": {},
   "outputs": [],
   "source": [
    "aggrs=\"\""
   ]
  },
  {
   "cell_type": "markdown",
   "metadata": {},
   "source": [
    "[Optional] Here the user can insert certain attributes from the previous tables, that the query uses.\n",
    "- E.g. attrs=\"pname, sname\"."
   ]
  },
  {
   "cell_type": "code",
   "execution_count": 6,
   "metadata": {},
   "outputs": [],
   "source": [
    "attrs=\"\""
   ]
  },
  {
   "cell_type": "markdown",
   "metadata": {},
   "source": [
    "[Optional] Number of operators. Number of SQL/R operators expected in the query."
   ]
  },
  {
   "cell_type": "code",
   "execution_count": 7,
   "metadata": {},
   "outputs": [],
   "source": [
    "loc=2"
   ]
  },
  {
   "cell_type": "markdown",
   "metadata": {},
   "source": [
    "Calling the method synthesize, SQUARES returns the query both in R and SQL."
   ]
  },
  {
   "cell_type": "code",
   "execution_count": 8,
   "metadata": {},
   "outputs": [],
   "source": [
    "R_Query, SQL_Query = s.synthesize(inputs,output,consts,aggrs,attrs,loc)"
   ]
  },
  {
   "cell_type": "markdown",
   "metadata": {},
   "source": [
    "- Now the SQL query is presented:\n"
   ]
  },
  {
   "cell_type": "code",
   "execution_count": 9,
   "metadata": {},
   "outputs": [
    {
     "name": "stdout",
     "output_type": "stream",
     "text": [
      "SELECT `pname`\n",
      "FROM\n",
      "  (SELECT `id`,\n",
      "          `pname`,\n",
      "          `sname`\n",
      "   FROM `input0` AS `LHS`\n",
      "   INNER JOIN `input1` AS `RHS` ON (`LHS`.`id` = `RHS`.`id`))\n"
     ]
    }
   ],
   "source": [
    "print(SQL_Query)"
   ]
  },
  {
   "cell_type": "markdown",
   "metadata": {},
   "source": [
    "\n",
    "\n",
    "\n",
    "\n",
    "- Now, the R query is presented:"
   ]
  },
  {
   "cell_type": "code",
   "execution_count": 10,
   "metadata": {},
   "outputs": [
    {
     "name": "stdout",
     "output_type": "stream",
     "text": [
      "RET_DF14 <- inner_join(input0, input1)\n",
      "RET_DF15 <- RET_DF14 %>% ungroup() %>% select(pname)\n",
      "\n"
     ]
    }
   ],
   "source": [
    "print(R_Query)"
   ]
  },
  {
   "cell_type": "code",
   "execution_count": null,
   "metadata": {},
   "outputs": [],
   "source": []
  }
 ],
 "metadata": {
  "kernelspec": {
   "display_name": "Python 3",
   "language": "python",
   "name": "python3"
  },
  "language_info": {
   "codemirror_mode": {
    "name": "ipython",
    "version": 3
   },
   "file_extension": ".py",
   "mimetype": "text/x-python",
   "name": "python",
   "nbconvert_exporter": "python",
   "pygments_lexer": "ipython3",
   "version": "3.7.6"
  }
 },
 "nbformat": 4,
 "nbformat_minor": 2
}
